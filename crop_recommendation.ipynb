{
 "cells": [
  {
   "cell_type": "code",
   "execution_count": 143,
   "metadata": {},
   "outputs": [],
   "source": [
    "import numpy as np\n",
    "import pandas as pd\n",
    "from sklearn.model_selection import train_test_split"
   ]
  },
  {
   "cell_type": "code",
   "execution_count": 161,
   "metadata": {},
   "outputs": [
    {
     "name": "stdout",
     "output_type": "stream",
     "text": [
      "<class 'list'>\n",
      "<class 'pandas.core.frame.DataFrame'>\n",
      "['rice' 'maize' 'chickpea' 'kidneybeans' 'pigeonpeas' 'mothbeans'\n",
      " 'mungbean' 'blackgram' 'lentil' 'pomegranate' 'banana' 'mango' 'grapes'\n",
      " 'watermelon' 'muskmelon' 'apple' 'orange' 'papaya' 'coconut' 'cotton'\n",
      " 'jute' 'coffee']\n"
     ]
    }
   ],
   "source": [
    "import sklearn\n",
    "data = pd.read_csv('Crop_recommendation.csv')\n",
    "cropName = data[['label']].copy()\n",
    "l = cropName['label'].unique()\n",
    "i = 0\n",
    "d = {}\n",
    "for s in l:\n",
    "    d[s] = i\n",
    "    i+=1\n",
    "#print(d)\n",
    "y=[]\n",
    "for j in cropName['label']:\n",
    "    y.append(d[j])\n",
    "print(type(y))\n",
    "x=data.iloc[:,:-1]\n",
    "# x = np.array(x)\n",
    "print(type(x))\n",
    "print(l)\n"
   ]
  },
  {
   "cell_type": "code",
   "execution_count": 145,
   "metadata": {},
   "outputs": [],
   "source": [
    "X_train, X_test, Y_train, Y_test = train_test_split(x, y, random_state=104, test_size=0.25, shuffle=True)\n"
   ]
  },
  {
   "cell_type": "code",
   "execution_count": 146,
   "metadata": {},
   "outputs": [],
   "source": [
    "from sklearn import tree\n",
    "from sklearn import metrics"
   ]
  },
  {
   "cell_type": "code",
   "execution_count": 151,
   "metadata": {},
   "outputs": [],
   "source": [
    "model = tree.DecisionTreeClassifier()\n",
    "model = model.fit(X_train, Y_train)"
   ]
  },
  {
   "cell_type": "code",
   "execution_count": 156,
   "metadata": {},
   "outputs": [
    {
     "data": {
      "text/plain": [
       "array([ 8,  5,  9,  8,  8, 13, 11, 19,  6, 19,  6, 19,  4, 20, 12,  1, 21,\n",
       "       14, 18, 13, 17,  4,  0,  3,  0, 13, 17, 16, 10,  7, 15,  2, 17,  8,\n",
       "       10, 16, 20, 12,  2, 17,  0,  4,  8,  3, 21, 20,  6, 12,  8,  8,  9,\n",
       "       13, 13, 16,  7,  3, 21, 21,  1, 11, 17,  9,  2,  3, 13,  1, 13, 12,\n",
       "        3, 14,  8, 11,  3, 12,  1,  5, 18,  8, 11, 10,  0, 16, 20,  0, 11,\n",
       "        2,  1, 21,  8, 19,  1, 18,  4, 19,  8,  2, 14, 18, 17,  5,  8, 14,\n",
       "        3, 18, 15, 15, 20,  5, 20, 20,  7, 10, 18,  6,  4, 20, 16,  7,  4,\n",
       "       20, 10,  8, 10, 20,  5, 21, 11, 16, 18,  4,  8,  2, 17,  0, 13, 16,\n",
       "       11,  4,  9,  4, 17, 13, 16,  4,  5,  8, 20, 17, 21,  2, 10, 15, 19,\n",
       "        7, 14, 20, 20, 12,  8,  9,  0,  1, 14, 21,  0,  6,  3, 14, 14, 16,\n",
       "       16, 19,  7,  2,  5,  7,  3,  8, 16, 15,  1, 19, 14,  4,  3, 13,  9,\n",
       "       10, 10, 16,  5, 14, 18, 13, 14,  5, 12, 13, 12,  9, 21,  8,  7, 20,\n",
       "       13,  1, 16,  2,  4, 13, 10, 15,  2,  6,  9, 11, 18, 12,  6,  7, 18,\n",
       "       21, 20, 11, 12,  5,  1,  2, 16, 10, 12, 19,  4,  5,  4,  6, 20, 20,\n",
       "       18,  7, 19,  1, 20, 16, 19,  8,  6,  0, 17,  1,  8,  4,  3,  0, 14,\n",
       "        6,  8, 16, 18, 18,  7, 14, 12,  8,  9,  1, 16, 11, 19, 12, 16, 15,\n",
       "       12, 13, 21,  9,  3, 12,  2, 16,  2,  2, 18, 10, 12,  1,  8,  8, 20,\n",
       "       10,  1, 12, 18,  0,  7,  3,  5, 17, 21, 21, 13,  4, 20,  0, 14,  9,\n",
       "        9, 15, 15,  1, 13,  2,  5, 13, 11,  9, 13,  2,  9,  9,  2,  3, 16,\n",
       "        4, 15, 13, 19,  1,  9,  9, 11,  0, 10,  6, 11,  4, 11, 13,  7, 20,\n",
       "        4,  2,  5,  6, 11,  4,  0, 14,  7, 17, 14, 13,  3,  0,  6, 12,  0,\n",
       "        8, 17,  0, 15,  6, 20,  2, 11, 12, 18,  6, 13, 16,  3,  4, 13,  5,\n",
       "        9, 21, 20,  8,  9, 12,  3, 16, 10,  1,  8,  3,  8, 16,  6, 12,  1,\n",
       "        3, 14,  2, 21,  1, 12,  0, 11, 13, 20, 15, 16, 13, 21,  9, 20,  8,\n",
       "       10,  1,  8,  6, 13,  4, 18, 19, 14,  8,  4, 14, 10,  7,  3, 21,  0,\n",
       "        9, 13,  6, 15, 14, 18, 16, 13, 11,  5, 13,  9, 10,  4, 21, 13,  6,\n",
       "        6, 18, 19,  7, 20, 14,  6, 16,  5,  2,  7,  4, 11,  7,  5,  9, 16,\n",
       "        4, 10, 16,  2, 21, 10,  2,  6, 20, 10,  6, 16, 14, 16,  6,  3, 10,\n",
       "       21, 11,  2,  9,  0, 13,  9, 17, 15, 19,  7, 14,  5, 13,  6, 15,  4,\n",
       "       14, 13, 15, 15,  7, 10, 10,  5,  0, 15, 13, 20, 10, 10, 15,  5, 16,\n",
       "        2, 15, 16,  7,  3,  6, 16,  8, 18, 17,  1, 20, 12, 19, 16,  6,  7,\n",
       "        5, 12,  1,  0, 18,  3, 13,  6, 11,  4,  9, 21,  6,  2,  2,  4, 17,\n",
       "       19, 21,  1,  1,  2,  2])"
      ]
     },
     "execution_count": 156,
     "metadata": {},
     "output_type": "execute_result"
    }
   ],
   "source": [
    "model.predict(X_test)"
   ]
  },
  {
   "cell_type": "code",
   "execution_count": 158,
   "metadata": {},
   "outputs": [
    {
     "name": "stdout",
     "output_type": "stream",
     "text": [
      "Predicted:  [10]\n",
      "Actual:  10\n"
     ]
    }
   ],
   "source": [
    "print(\"Predicted: \", model.predict(X_test.iloc[150:151, :]))\n",
    "print(\"Actual: \",   Y_test[150])"
   ]
  },
  {
   "cell_type": "code",
   "execution_count": 159,
   "metadata": {},
   "outputs": [
    {
     "data": {
      "text/plain": [
       "0.9854545454545455"
      ]
     },
     "execution_count": 159,
     "metadata": {},
     "output_type": "execute_result"
    }
   ],
   "source": [
    "metrics.accuracy_score(Y_test,model.predict(X_test))"
   ]
  },
  {
   "cell_type": "code",
   "execution_count": 139,
   "metadata": {},
   "outputs": [],
   "source": [
    "from joblib import dump"
   ]
  },
  {
   "cell_type": "code",
   "execution_count": 140,
   "metadata": {},
   "outputs": [
    {
     "data": {
      "text/plain": [
       "['CRS.joblib']"
      ]
     },
     "execution_count": 140,
     "metadata": {},
     "output_type": "execute_result"
    }
   ],
   "source": [
    "dump(model, 'CRS.joblib')"
   ]
  },
  {
   "cell_type": "code",
   "execution_count": 141,
   "metadata": {},
   "outputs": [],
   "source": [
    "import matplotlib.pyplot"
   ]
  },
  {
   "cell_type": "code",
   "execution_count": null,
   "metadata": {},
   "outputs": [
    {
     "data": {
      "text/plain": [
       "[Text(0.4983108108108108, 0.9722222222222222, 'x[2] <= 140.0\\ngini = 0.954\\nsamples = 1650\\nvalue = [74, 74, 71, 77, 71, 77, 71, 78, 71, 74, 74, 80\\n76, 64, 76, 80, 66, 84, 79, 82, 73, 78]'),\n",
       " Text(0.44425675675675674, 0.9166666666666666, 'x[6] <= 30.393\\ngini = 0.95\\nsamples = 1494\\nvalue = [74, 74, 71, 77, 71, 77, 71, 78, 71, 74, 74, 80\\n0, 64, 76, 0, 66, 84, 79, 82, 73, 78]'),\n",
       " Text(0.47128378378378377, 0.9444444444444444, 'True  '),\n",
       " Text(0.4172297297297297, 0.8611111111111112, 'gini = 0.0\\nsamples = 76\\nvalue = [0, 0, 0, 0, 0, 0, 0, 0, 0, 0, 0, 0, 0, 0\\n76, 0, 0, 0, 0, 0, 0, 0]'),\n",
       " Text(0.47128378378378377, 0.8611111111111112, 'x[4] <= 27.685\\ngini = 0.947\\nsamples = 1418\\nvalue = [74, 74, 71, 77, 71, 77, 71, 78, 71, 74, 74, 80\\n0, 64, 0, 0, 66, 84, 79, 82, 73, 78]'),\n",
       " Text(0.34459459459459457, 0.8055555555555556, 'x[2] <= 50.0\\ngini = 0.499\\nsamples = 148\\nvalue = [0, 0, 71, 77, 0, 0, 0, 0, 0, 0, 0, 0, 0, 0\\n0, 0, 0, 0, 0, 0, 0, 0]'),\n",
       " Text(0.31756756756756754, 0.75, 'gini = 0.0\\nsamples = 77\\nvalue = [0, 0, 0, 77, 0, 0, 0, 0, 0, 0, 0, 0, 0, 0\\n0, 0, 0, 0, 0, 0, 0, 0]'),\n",
       " Text(0.3716216216216216, 0.75, 'gini = 0.0\\nsamples = 71\\nvalue = [0, 0, 71, 0, 0, 0, 0, 0, 0, 0, 0, 0, 0, 0\\n0, 0, 0, 0, 0, 0, 0, 0]'),\n",
       " Text(0.597972972972973, 0.8055555555555556, 'x[4] <= 73.639\\ngini = 0.941\\nsamples = 1270\\nvalue = [74, 74, 0, 0, 71, 77, 71, 78, 71, 74, 74, 80\\n0, 64, 0, 0, 66, 84, 79, 82, 73, 78]'),\n",
       " Text(0.42567567567567566, 0.75, 'x[0] <= 60.5\\ngini = 0.862\\nsamples = 536\\nvalue = [0, 71, 0, 0, 71, 77, 0, 78, 71, 0, 0, 80, 0\\n0, 0, 0, 0, 0, 0, 0, 10, 78]'),\n",
       " Text(0.33783783783783783, 0.6944444444444444, 'x[6] <= 83.01\\ngini = 0.801\\nsamples = 378\\nvalue = [0, 1, 0, 0, 71, 77, 0, 78, 71, 0, 0, 80, 0\\n0, 0, 0, 0, 0, 0, 0, 0, 0]'),\n",
       " Text(0.24324324324324326, 0.6388888888888888, 'x[1] <= 57.5\\ngini = 0.669\\nsamples = 227\\nvalue = [0, 1, 0, 0, 0, 77, 0, 78, 71, 0, 0, 0, 0, 0\\n0, 0, 0, 0, 0, 0, 0, 0]'),\n",
       " Text(0.13513513513513514, 0.5833333333333334, 'x[4] <= 63.889\\ngini = 0.193\\nsamples = 77\\nvalue = [0, 1, 0, 0, 0, 69, 0, 4, 3, 0, 0, 0, 0, 0\\n0, 0, 0, 0, 0, 0, 0, 0]'),\n",
       " Text(0.08108108108108109, 0.5277777777777778, 'x[0] <= 49.5\\ngini = 0.056\\nsamples = 70\\nvalue = [0, 0, 0, 0, 0, 68, 0, 1, 1, 0, 0, 0, 0, 0\\n0, 0, 0, 0, 0, 0, 0, 0]'),\n",
       " Text(0.05405405405405406, 0.4722222222222222, 'x[3] <= 23.536\\ngini = 0.029\\nsamples = 69\\nvalue = [0, 0, 0, 0, 0, 68, 0, 0, 1, 0, 0, 0, 0, 0\\n0, 0, 0, 0, 0, 0, 0, 0]'),\n",
       " Text(0.02702702702702703, 0.4166666666666667, 'gini = 0.0\\nsamples = 1\\nvalue = [0, 0, 0, 0, 0, 0, 0, 0, 1, 0, 0, 0, 0, 0\\n0, 0, 0, 0, 0, 0, 0, 0]'),\n",
       " Text(0.08108108108108109, 0.4166666666666667, 'gini = 0.0\\nsamples = 68\\nvalue = [0, 0, 0, 0, 0, 68, 0, 0, 0, 0, 0, 0, 0, 0\\n0, 0, 0, 0, 0, 0, 0, 0]'),\n",
       " Text(0.10810810810810811, 0.4722222222222222, 'gini = 0.0\\nsamples = 1\\nvalue = [0, 0, 0, 0, 0, 0, 0, 1, 0, 0, 0, 0, 0, 0\\n0, 0, 0, 0, 0, 0, 0, 0]'),\n",
       " Text(0.1891891891891892, 0.5277777777777778, 'x[3] <= 28.062\\ngini = 0.694\\nsamples = 7\\nvalue = [0, 1, 0, 0, 0, 1, 0, 3, 2, 0, 0, 0, 0, 0\\n0, 0, 0, 0, 0, 0, 0, 0]'),\n",
       " Text(0.16216216216216217, 0.4722222222222222, 'x[5] <= 6.119\\ngini = 0.625\\nsamples = 4\\nvalue = [0, 1, 0, 0, 0, 1, 0, 0, 2, 0, 0, 0, 0, 0\\n0, 0, 0, 0, 0, 0, 0, 0]'),\n",
       " Text(0.13513513513513514, 0.4166666666666667, 'x[2] <= 20.5\\ngini = 0.5\\nsamples = 2\\nvalue = [0, 1, 0, 0, 0, 1, 0, 0, 0, 0, 0, 0, 0, 0\\n0, 0, 0, 0, 0, 0, 0, 0]'),\n",
       " Text(0.10810810810810811, 0.3611111111111111, 'gini = 0.0\\nsamples = 1\\nvalue = [0, 0, 0, 0, 0, 1, 0, 0, 0, 0, 0, 0, 0, 0\\n0, 0, 0, 0, 0, 0, 0, 0]'),\n",
       " Text(0.16216216216216217, 0.3611111111111111, 'gini = 0.0\\nsamples = 1\\nvalue = [0, 1, 0, 0, 0, 0, 0, 0, 0, 0, 0, 0, 0, 0\\n0, 0, 0, 0, 0, 0, 0, 0]'),\n",
       " Text(0.1891891891891892, 0.4166666666666667, 'gini = 0.0\\nsamples = 2\\nvalue = [0, 0, 0, 0, 0, 0, 0, 0, 2, 0, 0, 0, 0, 0\\n0, 0, 0, 0, 0, 0, 0, 0]'),\n",
       " Text(0.21621621621621623, 0.4722222222222222, 'gini = 0.0\\nsamples = 3\\nvalue = [0, 0, 0, 0, 0, 0, 0, 3, 0, 0, 0, 0, 0, 0\\n0, 0, 0, 0, 0, 0, 0, 0]'),\n",
       " Text(0.35135135135135137, 0.5833333333333334, 'x[6] <= 59.804\\ngini = 0.548\\nsamples = 150\\nvalue = [0, 0, 0, 0, 0, 8, 0, 74, 68, 0, 0, 0, 0, 0\\n0, 0, 0, 0, 0, 0, 0, 0]'),\n",
       " Text(0.2972972972972973, 0.5277777777777778, 'x[4] <= 60.029\\ngini = 0.169\\nsamples = 75\\nvalue = [0, 0, 0, 0, 0, 7, 0, 0, 68, 0, 0, 0, 0, 0\\n0, 0, 0, 0, 0, 0, 0, 0]'),\n",
       " Text(0.2702702702702703, 0.4722222222222222, 'gini = 0.0\\nsamples = 7\\nvalue = [0, 0, 0, 0, 0, 7, 0, 0, 0, 0, 0, 0, 0, 0\\n0, 0, 0, 0, 0, 0, 0, 0]'),\n",
       " Text(0.32432432432432434, 0.4722222222222222, 'gini = 0.0\\nsamples = 68\\nvalue = [0, 0, 0, 0, 0, 0, 0, 0, 68, 0, 0, 0, 0, 0\\n0, 0, 0, 0, 0, 0, 0, 0]'),\n",
       " Text(0.40540540540540543, 0.5277777777777778, 'x[0] <= 14.5\\ngini = 0.026\\nsamples = 75\\nvalue = [0, 0, 0, 0, 0, 1, 0, 74, 0, 0, 0, 0, 0, 0\\n0, 0, 0, 0, 0, 0, 0, 0]'),\n",
       " Text(0.3783783783783784, 0.4722222222222222, 'gini = 0.0\\nsamples = 1\\nvalue = [0, 0, 0, 0, 0, 1, 0, 0, 0, 0, 0, 0, 0, 0\\n0, 0, 0, 0, 0, 0, 0, 0]'),\n",
       " Text(0.43243243243243246, 0.4722222222222222, 'gini = 0.0\\nsamples = 74\\nvalue = [0, 0, 0, 0, 0, 0, 0, 74, 0, 0, 0, 0, 0, 0\\n0, 0, 0, 0, 0, 0, 0, 0]'),\n",
       " Text(0.43243243243243246, 0.6388888888888888, 'x[1] <= 47.5\\ngini = 0.498\\nsamples = 151\\nvalue = [0, 0, 0, 0, 71, 0, 0, 0, 0, 0, 0, 80, 0, 0\\n0, 0, 0, 0, 0, 0, 0, 0]'),\n",
       " Text(0.40540540540540543, 0.5833333333333334, 'gini = 0.0\\nsamples = 80\\nvalue = [0, 0, 0, 0, 0, 0, 0, 0, 0, 0, 0, 80, 0, 0\\n0, 0, 0, 0, 0, 0, 0, 0]'),\n",
       " Text(0.4594594594594595, 0.5833333333333334, 'gini = 0.0\\nsamples = 71\\nvalue = [0, 0, 0, 0, 71, 0, 0, 0, 0, 0, 0, 0, 0, 0\\n0, 0, 0, 0, 0, 0, 0, 0]'),\n",
       " Text(0.5135135135135135, 0.6944444444444444, 'x[6] <= 112.186\\ngini = 0.556\\nsamples = 158\\nvalue = [0, 70, 0, 0, 0, 0, 0, 0, 0, 0, 0, 0, 0, 0\\n0, 0, 0, 0, 0, 0, 10, 78]'),\n",
       " Text(0.4864864864864865, 0.6388888888888888, 'gini = 0.0\\nsamples = 70\\nvalue = [0, 70, 0, 0, 0, 0, 0, 0, 0, 0, 0, 0, 0, 0\\n0, 0, 0, 0, 0, 0, 0, 0]'),\n",
       " Text(0.5405405405405406, 0.6388888888888888, 'x[4] <= 70.453\\ngini = 0.201\\nsamples = 88\\nvalue = [0, 0, 0, 0, 0, 0, 0, 0, 0, 0, 0, 0, 0, 0\\n0, 0, 0, 0, 0, 0, 10, 78]'),\n",
       " Text(0.5135135135135135, 0.5833333333333334, 'gini = 0.0\\nsamples = 78\\nvalue = [0, 0, 0, 0, 0, 0, 0, 0, 0, 0, 0, 0, 0, 0\\n0, 0, 0, 0, 0, 0, 0, 78]'),\n",
       " Text(0.5675675675675675, 0.5833333333333334, 'gini = 0.0\\nsamples = 10\\nvalue = [0, 0, 0, 0, 0, 0, 0, 0, 0, 0, 0, 0, 0, 0\\n0, 0, 0, 0, 0, 0, 10, 0]'),\n",
       " Text(0.7702702702702703, 0.75, 'x[1] <= 32.5\\ngini = 0.9\\nsamples = 734\\nvalue = [74.0, 3.0, 0.0, 0.0, 0.0, 0.0, 71.0, 0.0, 0.0, 74.0\\n74.0, 0.0, 0.0, 64.0, 0.0, 0.0, 66.0, 84.0, 79.0\\n82.0, 63.0, 0.0]'),\n",
       " Text(0.6756756756756757, 0.6944444444444444, 'x[6] <= 125.392\\ngini = 0.748\\nsamples = 283\\nvalue = [0.0, 0.0, 0.0, 0.0, 0.0, 0.0, 0.0, 0.0, 0.0, 74.0\\n0.0, 0.0, 0.0, 64.0, 0.0, 0.0, 66.0, 0.0, 79.0, 0.0\\n0.0, 0.0]'),\n",
       " Text(0.6486486486486487, 0.6388888888888888, 'x[2] <= 25.0\\ngini = 0.665\\nsamples = 204\\nvalue = [0, 0, 0, 0, 0, 0, 0, 0, 0, 74, 0, 0, 0, 64\\n0, 0, 66, 0, 0, 0, 0, 0]'),\n",
       " Text(0.6216216216216216, 0.5833333333333334, 'gini = 0.0\\nsamples = 66\\nvalue = [0, 0, 0, 0, 0, 0, 0, 0, 0, 0, 0, 0, 0, 0\\n0, 0, 66, 0, 0, 0, 0, 0]'),\n",
       " Text(0.6756756756756757, 0.5833333333333334, 'x[0] <= 60.0\\ngini = 0.497\\nsamples = 138\\nvalue = [0, 0, 0, 0, 0, 0, 0, 0, 0, 74, 0, 0, 0, 64\\n0, 0, 0, 0, 0, 0, 0, 0]'),\n",
       " Text(0.6486486486486487, 0.5277777777777778, 'gini = 0.0\\nsamples = 74\\nvalue = [0, 0, 0, 0, 0, 0, 0, 0, 0, 74, 0, 0, 0, 0\\n0, 0, 0, 0, 0, 0, 0, 0]'),\n",
       " Text(0.7027027027027027, 0.5277777777777778, 'gini = 0.0\\nsamples = 64\\nvalue = [0, 0, 0, 0, 0, 0, 0, 0, 0, 0, 0, 0, 0, 64\\n0, 0, 0, 0, 0, 0, 0, 0]'),\n",
       " Text(0.7027027027027027, 0.6388888888888888, 'gini = 0.0\\nsamples = 79\\nvalue = [0, 0, 0, 0, 0, 0, 0, 0, 0, 0, 0, 0, 0, 0\\n0, 0, 0, 0, 79, 0, 0, 0]'),\n",
       " Text(0.8648648648648649, 0.6944444444444444, 'x[4] <= 90.017\\ngini = 0.834\\nsamples = 451\\nvalue = [74.0, 3.0, 0.0, 0.0, 0.0, 0.0, 71.0, 0.0, 0.0, 0.0\\n74.0, 0.0, 0.0, 0.0, 0.0, 0.0, 0.0, 84.0, 0.0, 82.0\\n63.0, 0.0]'),\n",
       " Text(0.8378378378378378, 0.6388888888888888, 'x[1] <= 65.0\\ngini = 0.802\\nsamples = 367\\nvalue = [74.0, 3.0, 0.0, 0.0, 0.0, 0.0, 71.0, 0.0, 0.0, 0.0\\n74.0, 0.0, 0.0, 0.0, 0.0, 0.0, 0.0, 0.0, 0.0, 82.0\\n63.0, 0.0]'),\n",
       " Text(0.8108108108108109, 0.5833333333333334, 'x[0] <= 99.5\\ngini = 0.753\\nsamples = 293\\nvalue = [74, 3, 0, 0, 0, 0, 71, 0, 0, 0, 0, 0, 0, 0\\n0, 0, 0, 0, 0, 82, 63, 0]'),\n",
       " Text(0.7567567567567568, 0.5277777777777778, 'x[0] <= 50.0\\ngini = 0.674\\nsamples = 210\\nvalue = [74, 3, 0, 0, 0, 0, 71, 0, 0, 0, 0, 0, 0, 0\\n0, 0, 0, 0, 0, 0, 62, 0]'),\n",
       " Text(0.7297297297297297, 0.4722222222222222, 'gini = 0.0\\nsamples = 71\\nvalue = [0, 0, 0, 0, 0, 0, 71, 0, 0, 0, 0, 0, 0, 0\\n0, 0, 0, 0, 0, 0, 0, 0]'),\n",
       " Text(0.7837837837837838, 0.4722222222222222, 'x[6] <= 200.336\\ngini = 0.517\\nsamples = 139\\nvalue = [74, 3, 0, 0, 0, 0, 0, 0, 0, 0, 0, 0, 0, 0\\n0, 0, 0, 0, 0, 0, 62, 0]'),\n",
       " Text(0.7567567567567568, 0.4166666666666667, 'x[5] <= 6.007\\ngini = 0.312\\nsamples = 76\\nvalue = [11, 3, 0, 0, 0, 0, 0, 0, 0, 0, 0, 0, 0, 0\\n0, 0, 0, 0, 0, 0, 62, 0]'),\n",
       " Text(0.7297297297297297, 0.3611111111111111, 'gini = 0.0\\nsamples = 5\\nvalue = [5, 0, 0, 0, 0, 0, 0, 0, 0, 0, 0, 0, 0, 0\\n0, 0, 0, 0, 0, 0, 0, 0]'),\n",
       " Text(0.7837837837837838, 0.3611111111111111, 'x[3] <= 22.889\\ngini = 0.229\\nsamples = 71\\nvalue = [6.0, 3.0, 0.0, 0.0, 0.0, 0.0, 0.0, 0.0, 0.0, 0.0\\n0.0, 0.0, 0.0, 0.0, 0.0, 0.0, 0.0, 0.0, 0.0, 0.0\\n62.0, 0.0]'),\n",
       " Text(0.7297297297297297, 0.3055555555555556, 'x[1] <= 54.0\\ngini = 0.375\\nsamples = 4\\nvalue = [3, 1, 0, 0, 0, 0, 0, 0, 0, 0, 0, 0, 0, 0\\n0, 0, 0, 0, 0, 0, 0, 0]'),\n",
       " Text(0.7027027027027027, 0.25, 'gini = 0.0\\nsamples = 3\\nvalue = [3, 0, 0, 0, 0, 0, 0, 0, 0, 0, 0, 0, 0, 0\\n0, 0, 0, 0, 0, 0, 0, 0]'),\n",
       " Text(0.7567567567567568, 0.25, 'gini = 0.0\\nsamples = 1\\nvalue = [0, 1, 0, 0, 0, 0, 0, 0, 0, 0, 0, 0, 0, 0\\n0, 0, 0, 0, 0, 0, 0, 0]'),\n",
       " Text(0.8378378378378378, 0.3055555555555556, 'x[6] <= 120.999\\ngini = 0.141\\nsamples = 67\\nvalue = [3, 2, 0, 0, 0, 0, 0, 0, 0, 0, 0, 0, 0, 0\\n0, 0, 0, 0, 0, 0, 62, 0]'),\n",
       " Text(0.8108108108108109, 0.25, 'gini = 0.0\\nsamples = 2\\nvalue = [0, 2, 0, 0, 0, 0, 0, 0, 0, 0, 0, 0, 0, 0\\n0, 0, 0, 0, 0, 0, 0, 0]'),\n",
       " Text(0.8648648648648649, 0.25, 'x[0] <= 90.5\\ngini = 0.088\\nsamples = 65\\nvalue = [3, 0, 0, 0, 0, 0, 0, 0, 0, 0, 0, 0, 0, 0\\n0, 0, 0, 0, 0, 0, 62, 0]'),\n",
       " Text(0.8378378378378378, 0.19444444444444445, 'gini = 0.0\\nsamples = 56\\nvalue = [0, 0, 0, 0, 0, 0, 0, 0, 0, 0, 0, 0, 0, 0\\n0, 0, 0, 0, 0, 0, 56, 0]'),\n",
       " Text(0.8918918918918919, 0.19444444444444445, 'x[6] <= 180.862\\ngini = 0.444\\nsamples = 9\\nvalue = [3, 0, 0, 0, 0, 0, 0, 0, 0, 0, 0, 0, 0, 0\\n0, 0, 0, 0, 0, 0, 6, 0]'),\n",
       " Text(0.8648648648648649, 0.1388888888888889, 'gini = 0.0\\nsamples = 3\\nvalue = [0, 0, 0, 0, 0, 0, 0, 0, 0, 0, 0, 0, 0, 0\\n0, 0, 0, 0, 0, 0, 3, 0]'),\n",
       " Text(0.918918918918919, 0.1388888888888889, 'x[4] <= 78.483\\ngini = 0.5\\nsamples = 6\\nvalue = [3, 0, 0, 0, 0, 0, 0, 0, 0, 0, 0, 0, 0, 0\\n0, 0, 0, 0, 0, 0, 3, 0]'),\n",
       " Text(0.8918918918918919, 0.08333333333333333, 'gini = 0.0\\nsamples = 2\\nvalue = [0, 0, 0, 0, 0, 0, 0, 0, 0, 0, 0, 0, 0, 0\\n0, 0, 0, 0, 0, 0, 2, 0]'),\n",
       " Text(0.9459459459459459, 0.08333333333333333, 'x[5] <= 6.133\\ngini = 0.375\\nsamples = 4\\nvalue = [3, 0, 0, 0, 0, 0, 0, 0, 0, 0, 0, 0, 0, 0\\n0, 0, 0, 0, 0, 0, 1, 0]'),\n",
       " Text(0.918918918918919, 0.027777777777777776, 'gini = 0.0\\nsamples = 1\\nvalue = [0, 0, 0, 0, 0, 0, 0, 0, 0, 0, 0, 0, 0, 0\\n0, 0, 0, 0, 0, 0, 1, 0]'),\n",
       " Text(0.972972972972973, 0.027777777777777776, 'gini = 0.0\\nsamples = 3\\nvalue = [3, 0, 0, 0, 0, 0, 0, 0, 0, 0, 0, 0, 0, 0\\n0, 0, 0, 0, 0, 0, 0, 0]'),\n",
       " Text(0.8108108108108109, 0.4166666666666667, 'gini = 0.0\\nsamples = 63\\nvalue = [63, 0, 0, 0, 0, 0, 0, 0, 0, 0, 0, 0, 0, 0\\n0, 0, 0, 0, 0, 0, 0, 0]'),\n",
       " Text(0.8648648648648649, 0.5277777777777778, 'x[4] <= 86.38\\ngini = 0.024\\nsamples = 83\\nvalue = [0, 0, 0, 0, 0, 0, 0, 0, 0, 0, 0, 0, 0, 0\\n0, 0, 0, 0, 0, 82, 1, 0]'),\n",
       " Text(0.8378378378378378, 0.4722222222222222, 'gini = 0.0\\nsamples = 82\\nvalue = [0, 0, 0, 0, 0, 0, 0, 0, 0, 0, 0, 0, 0, 0\\n0, 0, 0, 0, 0, 82, 0, 0]'),\n",
       " Text(0.8918918918918919, 0.4722222222222222, 'gini = 0.0\\nsamples = 1\\nvalue = [0, 0, 0, 0, 0, 0, 0, 0, 0, 0, 0, 0, 0, 0\\n0, 0, 0, 0, 0, 0, 1, 0]'),\n",
       " Text(0.8648648648648649, 0.5833333333333334, 'gini = 0.0\\nsamples = 74\\nvalue = [0, 0, 0, 0, 0, 0, 0, 0, 0, 0, 74, 0, 0, 0\\n0, 0, 0, 0, 0, 0, 0, 0]'),\n",
       " Text(0.8918918918918919, 0.6388888888888888, 'gini = 0.0\\nsamples = 84\\nvalue = [0, 0, 0, 0, 0, 0, 0, 0, 0, 0, 0, 0, 0, 0\\n0, 0, 0, 84, 0, 0, 0, 0]'),\n",
       " Text(0.5523648648648649, 0.9166666666666666, 'x[6] <= 87.516\\ngini = 0.5\\nsamples = 156\\nvalue = [0, 0, 0, 0, 0, 0, 0, 0, 0, 0, 0, 0, 76, 0\\n0, 80, 0, 0, 0, 0, 0, 0]'),\n",
       " Text(0.5253378378378378, 0.9444444444444444, '  False'),\n",
       " Text(0.5253378378378378, 0.8611111111111112, 'gini = 0.0\\nsamples = 76\\nvalue = [0, 0, 0, 0, 0, 0, 0, 0, 0, 0, 0, 0, 76, 0\\n0, 0, 0, 0, 0, 0, 0, 0]'),\n",
       " Text(0.5793918918918919, 0.8611111111111112, 'gini = 0.0\\nsamples = 80\\nvalue = [0, 0, 0, 0, 0, 0, 0, 0, 0, 0, 0, 0, 0, 0\\n0, 80, 0, 0, 0, 0, 0, 0]')]"
      ]
     },
     "execution_count": 142,
     "metadata": {},
     "output_type": "execute_result"
    },
    {
     "data": {
      "image/png": "[encoded data removed]",
      "text/plain": [
       "<Figure size 640x480 with 1 Axes>"
      ]
     },
     "metadata": {},
     "output_type": "display_data"
    }
   ],
   "source": [
    "tree.plot_tree(model)"
   ]
  },
  {
   "cell_type": "code",
   "execution_count": null,
   "metadata": {},
   "outputs": [],
   "source": [
    "  "
   ]
  }
 ],
 "metadata": {
  "kernelspec": {
   "display_name": "Python 3",
   "language": "python",
   "name": "python3"
  },
  "language_info": {
   "codemirror_mode": {
    "name": "ipython",
    "version": 3
   },
   "file_extension": ".py",
   "mimetype": "text/x-python",
   "name": "python",
   "nbconvert_exporter": "python",
   "pygments_lexer": "ipython3",
   "version": "3.13.0"
  }
 },
 "nbformat": 4,
 "nbformat_minor": 2
}
